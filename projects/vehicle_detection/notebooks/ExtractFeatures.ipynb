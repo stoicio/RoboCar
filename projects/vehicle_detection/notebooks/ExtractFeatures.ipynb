{
 "cells": [
  {
   "cell_type": "code",
   "execution_count": null,
   "metadata": {},
   "outputs": [],
   "source": [
    "import os\n",
    "import sys\n",
    "import logging\n",
    "import cv2\n",
    "import json\n",
    "import matplotlib.image as mpimg\n",
    "import matplotlib.pyplot as plt\n",
    "from ast import literal_eval\n",
    "from tqdm import tqdm_notebook as tqdm\n",
    "import numpy as np\n",
    "\n",
    "%matplotlib inline\n",
    "!jupyter nbextension enable --py --sys-prefix widgetsnbextension\n",
    "\n",
    "logging.basicConfig(level=logging.INFO)\n",
    "logger = logging.getLogger('TrainClassifier')\n",
    "\n",
    "module_path = os.path.abspath(os.path.join('..'))\n",
    "if module_path not in sys.path:\n",
    "    sys.path.append(module_path)\n",
    "\n",
    "from vehicle_detector import extract_features"
   ]
  },
  {
   "cell_type": "code",
   "execution_count": null,
   "metadata": {
    "scrolled": true
   },
   "outputs": [],
   "source": [
    "# Load the computer params and plot the results\n",
    "with open('../data/params_stats.json') as fp:\n",
    "    stats =  json.load(fp)['stats']\n",
    "\n",
    "top_10_params = sorted(stats, key=lambda x: x['accuracy'])[:-11:-1]\n",
    "\n",
    "accuracy = list(i ['accuracy'] for i in top_10_params)\n",
    "extract_time = list(i ['extraction_time'] for i in top_10_params)\n",
    "num_features = list(i ['num_features'] for i in top_10_params)\n",
    "training_time = list(i ['training_time'] for i in top_10_params)\n",
    "# top_10_params"
   ]
  },
  {
   "cell_type": "code",
   "execution_count": null,
   "metadata": {},
   "outputs": [],
   "source": [
    "from sklearn.preprocessing import minmax_scale\n",
    "width = 0.2\n",
    "\n",
    "x = np.arange(len(accuracy))\n",
    "plt.bar(x, minmax_scale(accuracy, feature_range=(0, 8)) + 2, width, label='Accuracy' )\n",
    "plt.bar(x + width , minmax_scale(extract_time, feature_range=(0, 8)) + 2,width, label='Extract Time')\n",
    "plt.bar(x + 2 * width , minmax_scale(num_features, feature_range=(0, 8)) + 2,width, label='Features Count')\n",
    "plt.title('Parameter Combination & Performance')\n",
    "plt.legend()\n",
    "plt.show()"
   ]
  },
  {
   "cell_type": "code",
   "execution_count": null,
   "metadata": {},
   "outputs": [],
   "source": [
    "# Load  Image Paths\n",
    "with open('../data/filtered_images_path.json', 'r') as fp:\n",
    "    data = json.load(fp)\n",
    "\n",
    "vehicle_images_path = data['vehicle_images']\n",
    "non_vehicle_images_path = data['non_vehicle_images']"
   ]
  },
  {
   "cell_type": "code",
   "execution_count": null,
   "metadata": {},
   "outputs": [],
   "source": [
    "params_desc = map(lambda x: x['name'], top_10_params)\n",
    "\n",
    "def get_dataset_name_from_params(params, hog_params):\n",
    "    model_desc = 'A_{acc}_C_{c_val}_gamma_{gamma_val}'.format(acc=params['accuracy'],\n",
    "                    c_val=params['best_params']['C'], gamma_val=params['best_params']['gamma'])\n",
    "    param_desc= 'CH_{hist}_O_{orients}_P_{n_pixels}_C_{n_cells}_CS_{cspace}'.format(\n",
    "        hist=hog_params['color_hist'], orients=hog_params['orientations'],\n",
    "        n_pixels=hog_params['pixels_per_cell'], n_cells=hog_params['cells_per_block'],\n",
    "        cspace=hog_params['hog_color_space'])\n",
    "    \n",
    "    return '{model}_{hog}.hdf5'.format(model=model_desc, hog=param_desc)\n",
    "\n",
    "def get_feature_params(params_desc):\n",
    "    tokens = params_desc.split('_')\n",
    "    return {\n",
    "        'hog_color_space': tokens[1],\n",
    "        'pixels_per_cell': literal_eval(tokens[2][1:]),\n",
    "        'cells_per_block': literal_eval(tokens[3][1:]),\n",
    "        'orientations': literal_eval(tokens[4][1:]),\n",
    "        'color_hist': literal_eval(tokens[6])\n",
    "    }\n"
   ]
  },
  {
   "cell_type": "code",
   "execution_count": null,
   "metadata": {},
   "outputs": [],
   "source": [
    "postive_samples = vehicle_images_path[:]\n",
    "negative_samples = non_vehicle_images_path[:]\n",
    "\n",
    "dataset_dir = '../data/datasets'\n",
    "\n",
    "if not os.path.exists(dataset_dir):\n",
    "    os.makedirs(dataset_dir)\n",
    "        \n",
    "for params in tqdm(top_10_params, desc='Creating Datasets'):\n",
    "    feature_params = get_feature_params(params['name'])\n",
    "    dataset_name = get_dataset_name_from_params(params, feature_params)\n",
    "    dataset_path = os.path.join(dataset_dir, dataset_name)\n",
    "    extract_features.extract_save_features(postive_samples, negative_samples, feature_params,\n",
    "                                          dataset_path, 'carnd_p5')\n",
    "\n"
   ]
  }
 ],
 "metadata": {
  "kernelspec": {
   "display_name": "Python 3",
   "language": "python",
   "name": "python3"
  },
  "language_info": {
   "codemirror_mode": {
    "name": "ipython",
    "version": 3
   },
   "file_extension": ".py",
   "mimetype": "text/x-python",
   "name": "python",
   "nbconvert_exporter": "python",
   "pygments_lexer": "ipython3",
   "version": "3.5.2"
  },
  "widgets": {
   "state": {
    "019b83a621714526bad041d8534999d6": {
     "views": []
    },
    "03020c4f14f240f3acb41bcbfcb760aa": {
     "views": []
    },
    "062492005f9641f28112c258ddf2611f": {
     "views": []
    },
    "0cfb382bb0474af48857ddbc90c223fe": {
     "views": []
    },
    "122ade07ef904bd9bf73fe08f5e9d301": {
     "views": []
    },
    "12c1a93e40ad4afeb17e623567557bcf": {
     "views": []
    },
    "1dda6c4feddb44a3ac3ca8980cc240d4": {
     "views": []
    },
    "24884ab20a6c4a02911828e1f4515f82": {
     "views": [
      {
       "cell_index": 6
      }
     ]
    },
    "273cc36908144b30aaa52d45bb585c15": {
     "views": []
    },
    "27ce21d25bb544889fb21a345334edb2": {
     "views": []
    },
    "29495423cd56461b95184777312a969e": {
     "views": []
    },
    "2d6037fb732542be936c6b8c07c6d6e7": {
     "views": []
    },
    "368ccb8536c74de1b5bbd84283d8c752": {
     "views": []
    },
    "36db3c0dbe37475f8d2fd46909a3ebf5": {
     "views": []
    },
    "37443d0b0e504bdc8fd804c69a5e92ea": {
     "views": []
    },
    "3838695a1ad543d08e8326b66cec9b8e": {
     "views": []
    },
    "39d99c13bb8d4bba8c33e425bacfbbfa": {
     "views": []
    },
    "3eec313f6b344d739e507ae01be2311c": {
     "views": []
    },
    "51e3c707bd0743ed999e5a66941f4d5f": {
     "views": []
    },
    "52fa55f251a04145b4aa4af4637bf56c": {
     "views": []
    },
    "6c60c752d1644847bf842ba8d67856db": {
     "views": []
    },
    "6caa7300270e492089a74113c717bdb9": {
     "views": []
    },
    "6f877072b47641cea5bd2c7aa7c24812": {
     "views": []
    },
    "7b5dcb634f8d4604863b22188c681ce9": {
     "views": []
    },
    "7c3980b3c07348aa97a19a6dafe38f54": {
     "views": []
    },
    "7db231b976eb4a3eb1e058cf5543cf02": {
     "views": []
    },
    "8498832060414da2a0c4d172dcc2d244": {
     "views": []
    },
    "86129a971ecd4de3bee39a4018455092": {
     "views": []
    },
    "8cf50feec40347f6a3a4dd6181ab9a36": {
     "views": []
    },
    "8f03fc9e7b1f4950b12a0d1e574a9f8d": {
     "views": []
    },
    "9ae6bf08d92b4713a572727c023f83e4": {
     "views": []
    },
    "9dd5a61152a744619054762d649de977": {
     "views": []
    },
    "9e03fe57dc164326b45794652d839faf": {
     "views": []
    },
    "9e138250f4834721b01bf70a25be28dc": {
     "views": []
    },
    "a53f70ad22314626870ce0819dcdb588": {
     "views": []
    },
    "b8008e43b0b647e5ad13c36655ee378e": {
     "views": []
    },
    "b9cab03f714442548257bf32725c315d": {
     "views": []
    },
    "ba178bf0f1bf419bb0cf2f15947f4bc4": {
     "views": []
    },
    "bbf5cb02fc5c43c1a7d63dea83f40b94": {
     "views": []
    },
    "c0589ea2f1cc4e689582ea550b5f35ca": {
     "views": []
    },
    "c2be2a955e6c43a18b136114eef244e8": {
     "views": []
    },
    "c348c4747e8e42d682d0cc7f735e3c65": {
     "views": []
    },
    "c95aa4f3968d4875a8ffc4d2aa2e9652": {
     "views": []
    },
    "ca17c9cc6f1c4ba09d58665e515bd1c4": {
     "views": []
    },
    "dc03be6843054fc58ed7c69656ceaa91": {
     "views": []
    },
    "e0aad097b8ff4da4b094aa15a561238f": {
     "views": []
    },
    "e190bf3ffcf249719ad4c4a36f70a4d5": {
     "views": []
    },
    "eced88bbb4294ee6a11deccb9f2384e7": {
     "views": []
    },
    "ef05736f9f3f445da2da1fcdf273160c": {
     "views": []
    },
    "f15bdae214e544b2b37e01a72b6ff992": {
     "views": []
    },
    "f842f1443c50466db92389fa1f100818": {
     "views": []
    },
    "fa87691b6ae14486a17c9cb5f4ec1e8e": {
     "views": []
    },
    "ff611d6bd1064f359b8ad2b58a21d23f": {
     "views": []
    },
    "ffc9e2e10c404fcc8fcf0b54b74a1fd2": {
     "views": []
    }
   },
   "version": "1.1.2"
  }
 },
 "nbformat": 4,
 "nbformat_minor": 2
}
