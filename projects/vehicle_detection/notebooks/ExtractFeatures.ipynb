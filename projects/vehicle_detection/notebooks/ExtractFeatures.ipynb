{
 "cells": [
  {
   "cell_type": "code",
   "execution_count": 1,
   "metadata": {},
   "outputs": [
    {
     "name": "stdout",
     "output_type": "stream",
     "text": [
      "Enabling notebook extension jupyter-js-widgets/extension...\r\n",
      "      - Validating: \u001b[32mOK\u001b[0m\r\n"
     ]
    }
   ],
   "source": [
    "import os\n",
    "import sys\n",
    "import logging\n",
    "import cv2\n",
    "import json\n",
    "import matplotlib.image as mpimg\n",
    "import matplotlib.pyplot as plt\n",
    "from ast import literal_eval\n",
    "from tqdm import tqdm_notebook as tqdm\n",
    "import numpy as np\n",
    "\n",
    "%matplotlib inline\n",
    "!jupyter nbextension enable --py --sys-prefix widgetsnbextension\n",
    "\n",
    "logging.basicConfig(level=logging.INFO)\n",
    "logger = logging.getLogger('TrainClassifier')\n",
    "\n",
    "module_path = os.path.abspath(os.path.join('..'))\n",
    "if module_path not in sys.path:\n",
    "    sys.path.append(module_path)\n",
    "\n",
    "from vehicle_detector import extract_features"
   ]
  },
  {
   "cell_type": "code",
   "execution_count": 2,
   "metadata": {},
   "outputs": [],
   "source": [
    "# Load the computer params and plot the results\n",
    "with open('../data/top_models.json') as fp:\n",
    "    stats =  json.load(fp)['stats']\n",
    "\n",
    "stats = list(filter(lambda x: 'GRAY'not in x['name'], stats))\n",
    "# Remove params with cells/block pix/cell not divisble by windows size\n",
    "stats = list(filter(lambda x: 'C(12, 12)' not in x['name'], stats))"
   ]
  },
  {
   "cell_type": "code",
   "execution_count": 3,
   "metadata": {
    "scrolled": true
   },
   "outputs": [],
   "source": [
    "top_10_params = sorted(stats, key=lambda x: x['accuracy'],reverse=True)[:11]\n",
    "\n",
    "accuracy = list(i ['accuracy'] for i in top_10_params)\n",
    "extract_time = list(i ['extraction_time'] for i in top_10_params)\n",
    "num_features = list(i ['num_features'] for i in top_10_params)\n",
    "training_time = list(i ['training_time'] for i in top_10_params)\n",
    "# # top_10_params"
   ]
  },
  {
   "cell_type": "code",
   "execution_count": 4,
   "metadata": {},
   "outputs": [
    {
     "data": {
      "image/png": "[encoded data removed]",
      "text/plain": [
       "<matplotlib.figure.Figure at 0x7f00d420a7f0>"
      ]
     },
     "metadata": {},
     "output_type": "display_data"
    }
   ],
   "source": [
    "from sklearn.preprocessing import minmax_scale\n",
    "width = 0.2\n",
    "\n",
    "x = np.arange(len(accuracy))\n",
    "plt.bar(x, minmax_scale(accuracy, feature_range=(0, 8)) + 2, width, label='Accuracy' )\n",
    "plt.bar(x + width , minmax_scale(extract_time, feature_range=(0, 8)) + 2,width, label='Extract Time')\n",
    "plt.bar(x + 2 * width , minmax_scale(num_features, feature_range=(0, 8)) + 2,width, label='Features Count')\n",
    "plt.title('Parameter Combination & Performance')\n",
    "plt.legend()\n",
    "plt.show()"
   ]
  },
  {
   "cell_type": "code",
   "execution_count": 5,
   "metadata": {},
   "outputs": [],
   "source": [
    "# Load  Image Paths\n",
    "with open('../data/filtered_images_path.json', 'r') as fp:\n",
    "    data = json.load(fp)\n",
    "\n",
    "with open('../data/unfiltered_images_path.json', 'r') as fp:\n",
    "    unfiltered_data = json.load(fp)\n",
    "\n",
    "vehicle_images_path = data['vehicle_images']\n",
    "non_vehicle_images_path = data['non_vehicle_images']\n",
    "\n",
    "uf_vehicle_images_path = unfiltered_data['vehicle_images']\n",
    "uf_non_vehicle_images_path = unfiltered_data['non_vehicle_images']"
   ]
  },
  {
   "cell_type": "code",
   "execution_count": 6,
   "metadata": {},
   "outputs": [],
   "source": [
    "params_desc = map(lambda x: x['name'], top_10_params)\n",
    "\n",
    "def get_dataset_name_from_params(params, hog_params, is_unfiltered=False):\n",
    "    model_desc = 'A_{acc}_C_{c_val}_gamma_{gamma_val}'.format(acc=params['accuracy'],\n",
    "                    c_val=params['best_params']['C'], gamma_val=params['best_params']['gamma'])\n",
    "    param_desc= 'CH_{hist}_O_{orients}_P_{n_pixels}_C_{n_cells}_CS_{cspace}'.format(\n",
    "        hist=hog_params['color_hist'], orients=hog_params['orientations'],\n",
    "        n_pixels=hog_params['pixels_per_cell'], n_cells=hog_params['cells_per_block'],\n",
    "        cspace=hog_params['hog_color_space'])\n",
    "    name = '{model}_{hog}.hdf5'.format(model=model_desc, hog=param_desc)\n",
    "    if is_unfiltered:\n",
    "        name = 'unfiltered_{name}'.format(name=name)\n",
    "    return name\n",
    "\n",
    "def get_feature_params(params_desc):\n",
    "    tokens = params_desc.split('_')\n",
    "    return {\n",
    "        'hog_color_space': tokens[1],\n",
    "        'pixels_per_cell': literal_eval(tokens[2][1:]),\n",
    "        'cells_per_block': literal_eval(tokens[3][1:]),\n",
    "        'orientations': literal_eval(tokens[4][1:]),\n",
    "        'color_hist': literal_eval(tokens[6])\n",
    "    }\n"
   ]
  },
  {
   "cell_type": "code",
   "execution_count": 7,
   "metadata": {},
   "outputs": [
    {
     "name": "stderr",
     "output_type": "stream",
     "text": [
      "INFO:vehicle_detector.extract_features:Successfully wrote dataset to file at ../data/datasets/A_99.5_C_10_gamma_auto_CH_True_O_12_P_(16, 16)_C_(4, 4)_CS_BGR2YCrCb.hdf5 with name carnd_p5\n",
      "INFO:vehicle_detector.extract_features:Successfully wrote dataset to file at ../data/datasets/A_99.375_C_10_gamma_auto_CH_True_O_10_P_(16, 16)_C_(4, 4)_CS_BGR.hdf5 with name carnd_p5\n",
      "INFO:vehicle_detector.extract_features:Successfully wrote dataset to file at ../data/datasets/A_99.125_C_10_gamma_auto_CH_True_O_9_P_(16, 16)_C_(4, 4)_CS_BGR2YCrCb.hdf5 with name carnd_p5\n",
      "INFO:vehicle_detector.extract_features:Successfully wrote dataset to file at ../data/datasets/A_99.125_C_10_gamma_auto_CH_True_O_10_P_(16, 16)_C_(4, 4)_CS_BGR2YCrCb.hdf5 with name carnd_p5\n",
      "INFO:vehicle_detector.extract_features:Successfully wrote dataset to file at ../data/datasets/A_99.125_C_10_gamma_auto_CH_True_O_12_P_(16, 16)_C_(2, 2)_CS_BGR2HSV.hdf5 with name carnd_p5\n",
      "INFO:vehicle_detector.extract_features:Successfully wrote dataset to file at ../data/datasets/A_99.125_C_10_gamma_auto_CH_False_O_9_P_(16, 16)_C_(2, 2)_CS_BGR2YCrCb.hdf5 with name carnd_p5\n",
      "INFO:vehicle_detector.extract_features:Successfully wrote dataset to file at ../data/datasets/A_99.125_C_10_gamma_auto_CH_False_O_10_P_(16, 16)_C_(2, 2)_CS_BGR2HSV.hdf5 with name carnd_p5\n",
      "INFO:vehicle_detector.extract_features:Successfully wrote dataset to file at ../data/datasets/A_99.0_C_10_gamma_auto_CH_True_O_9_P_(8, 8)_C_(2, 2)_CS_BGR2YCrCb.hdf5 with name carnd_p5\n",
      "INFO:vehicle_detector.extract_features:Successfully wrote dataset to file at ../data/datasets/A_99.0_C_10_gamma_auto_CH_True_O_9_P_(8, 8)_C_(4, 4)_CS_BGR.hdf5 with name carnd_p5\n",
      "INFO:vehicle_detector.extract_features:Successfully wrote dataset to file at ../data/datasets/A_99.0_C_10_gamma_auto_CH_True_O_10_P_(8, 8)_C_(4, 4)_CS_BGR2HSV.hdf5 with name carnd_p5\n",
      "INFO:vehicle_detector.extract_features:Successfully wrote dataset to file at ../data/datasets/A_99.0_C_10_gamma_auto_CH_True_O_10_P_(8, 8)_C_(4, 4)_CS_BGR2YCrCb.hdf5 with name carnd_p5\n"
     ]
    },
    {
     "name": "stdout",
     "output_type": "stream",
     "text": [
      "\n"
     ]
    }
   ],
   "source": [
    "postive_samples = vehicle_images_path[:]\n",
    "negative_samples = non_vehicle_images_path[:]\n",
    "\n",
    "dataset_dir = '../data/datasets'\n",
    "\n",
    "if not os.path.exists(dataset_dir):\n",
    "    os.makedirs(dataset_dir)\n",
    "        \n",
    "for params in tqdm(top_10_params, desc='Creating Datasets'):\n",
    "    feature_params = get_feature_params(params['name'])\n",
    "    dataset_name = get_dataset_name_from_params(params, feature_params)\n",
    "    dataset_path = os.path.join(dataset_dir, dataset_name)\n",
    "    extract_features.extract_save_features(postive_samples, negative_samples, feature_params,\n",
    "                                          dataset_path, 'carnd_p5')\n",
    "\n"
   ]
  },
  {
   "cell_type": "code",
   "execution_count": null,
   "metadata": {},
   "outputs": [
    {
     "name": "stderr",
     "output_type": "stream",
     "text": [
      "INFO:vehicle_detector.extract_features:Successfully wrote dataset to file at ../data/datasets/unfiltered_A_99.5_C_10_gamma_auto_CH_True_O_12_P_(16, 16)_C_(4, 4)_CS_BGR2YCrCb.hdf5 with name carnd_p5\n",
      "INFO:vehicle_detector.extract_features:Successfully wrote dataset to file at ../data/datasets/unfiltered_A_99.375_C_10_gamma_auto_CH_True_O_10_P_(16, 16)_C_(4, 4)_CS_BGR.hdf5 with name carnd_p5\n",
      "INFO:vehicle_detector.extract_features:Successfully wrote dataset to file at ../data/datasets/unfiltered_A_99.125_C_10_gamma_auto_CH_True_O_9_P_(16, 16)_C_(4, 4)_CS_BGR2YCrCb.hdf5 with name carnd_p5\n",
      "INFO:vehicle_detector.extract_features:Successfully wrote dataset to file at ../data/datasets/unfiltered_A_99.125_C_10_gamma_auto_CH_True_O_10_P_(16, 16)_C_(4, 4)_CS_BGR2YCrCb.hdf5 with name carnd_p5\n",
      "INFO:vehicle_detector.extract_features:Successfully wrote dataset to file at ../data/datasets/unfiltered_A_99.125_C_10_gamma_auto_CH_True_O_12_P_(16, 16)_C_(2, 2)_CS_BGR2HSV.hdf5 with name carnd_p5\n",
      "INFO:vehicle_detector.extract_features:Successfully wrote dataset to file at ../data/datasets/unfiltered_A_99.125_C_10_gamma_auto_CH_False_O_9_P_(16, 16)_C_(2, 2)_CS_BGR2YCrCb.hdf5 with name carnd_p5\n",
      "INFO:vehicle_detector.extract_features:Successfully wrote dataset to file at ../data/datasets/unfiltered_A_99.125_C_10_gamma_auto_CH_False_O_10_P_(16, 16)_C_(2, 2)_CS_BGR2HSV.hdf5 with name carnd_p5\n",
      "INFO:vehicle_detector.extract_features:Successfully wrote dataset to file at ../data/datasets/unfiltered_A_99.0_C_10_gamma_auto_CH_True_O_9_P_(8, 8)_C_(2, 2)_CS_BGR2YCrCb.hdf5 with name carnd_p5\n",
      "INFO:vehicle_detector.extract_features:Successfully wrote dataset to file at ../data/datasets/unfiltered_A_99.0_C_10_gamma_auto_CH_True_O_9_P_(8, 8)_C_(4, 4)_CS_BGR.hdf5 with name carnd_p5\n",
      "INFO:vehicle_detector.extract_features:Successfully wrote dataset to file at ../data/datasets/unfiltered_A_99.0_C_10_gamma_auto_CH_True_O_10_P_(8, 8)_C_(4, 4)_CS_BGR2HSV.hdf5 with name carnd_p5\n",
      "                                                                             \r"
     ]
    }
   ],
   "source": [
    "uf_postive_samples = uf_vehicle_images_path[:]\n",
    "uf_negative_samples = uf_non_vehicle_images_path[:]\n",
    "\n",
    "for params in tqdm(top_10_params, desc='Creating Datasets'):\n",
    "    feature_params = get_feature_params(params['name'])\n",
    "    dataset_name = get_dataset_name_from_params(params, feature_params, is_unfiltered=True)\n",
    "    dataset_path = os.path.join(dataset_dir, dataset_name)\n",
    "    extract_features.extract_save_features(uf_postive_samples, uf_negative_samples, feature_params,\n",
    "                                          dataset_path, 'carnd_p5')\n",
    "\n"
   ]
  },
  {
   "cell_type": "code",
   "execution_count": null,
   "metadata": {},
   "outputs": [],
   "source": []
  }
 ],
 "metadata": {
  "kernelspec": {
   "display_name": "Python 3",
   "language": "python",
   "name": "python3"
  },
  "language_info": {
   "codemirror_mode": {
    "name": "ipython",
    "version": 3
   },
   "file_extension": ".py",
   "mimetype": "text/x-python",
   "name": "python",
   "nbconvert_exporter": "python",
   "pygments_lexer": "ipython3",
   "version": "3.5.2"
  },
  "widgets": {
   "state": {},
   "version": "1.1.2"
  }
 },
 "nbformat": 4,
 "nbformat_minor": 2
}
